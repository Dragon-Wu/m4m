{
 "cells": [
  {
   "cell_type": "markdown",
   "id": "1c9a1c1b-3c6f-41f7-9461-dd1368263e0d",
   "metadata": {
    "tags": []
   },
   "source": [
    "### AUC of Plotly\n"
   ]
  },
  {
   "cell_type": "code",
   "execution_count": null,
   "id": "aace95f9-76d5-4870-a092-4a3484001ce5",
   "metadata": {},
   "outputs": [],
   "source": [
    "def paint_general_roc_plotly(list_targets_clfs, list_pros_clfs):\n",
    "    # calc general ROC\n",
    "    general_target = np.asarray(list_targets_clfs).flatten()\n",
    "    general_pro = np.asarray(list_pros_clfs).flatten()\n",
    "    general_fpr, general_tpr, general_threshold_roc = roc_curve(general_target, general_pro, pos_label=1)\n",
    "    general_auc_roc = auc(general_fpr, general_tpr)\n",
    "    # paint general ROC\n",
    "    fig = px.area(\n",
    "            x=general_fpr, y=general_tpr,\n",
    "            title=f'The general ROC Curve (AUC={general_auc_roc:.4f})',\n",
    "            labels=dict(x='False Positive Rate', y='True Positive Rate'),\n",
    "            width=600, height=500\n",
    "    )\n",
    "    # calc and paint ROC of each fold\n",
    "    for idx, (target, pro) in enumerate(zip(list_targets_clfs,list_pros_clfs)):\n",
    "        fpr, tpr, thresholds = roc_curve(target, pro, pos_label=1)\n",
    "        fig.add_trace(go.Scatter(x=fpr, y=tpr, mode='lines', name='fold-{} auc:{:.4f}'.format(idx,auc(fpr, tpr))))\n",
    "    # paint the standard line\n",
    "    fig.add_shape(\n",
    "        type='line', line=dict(dash='dash'),\n",
    "        x0=0, x1=1, y0=0, y1=1\n",
    "    )\n",
    "    fig.show(config=config_plotly)\n",
    "    return general_fpr, general_tpr, general_threshold_roc, general_auc_roc"
   ]
  },
  {
   "cell_type": "code",
   "execution_count": null,
   "id": "47a0b5a6-f997-41fe-9656-a8406d74405d",
   "metadata": {},
   "outputs": [],
   "source": [
    "def paint_general_pr_plotly(list_targets_clfs, list_pros_clfs):\n",
    "    # calc general PR\n",
    "    general_target = np.asarray(list_targets_clfs).flatten()\n",
    "    general_pro = np.asarray(list_pros_clfs).flatten()\n",
    "    general_precision, general_recall, general_threshold_pr = precision_recall_curve(general_target, general_pro, pos_label=1)\n",
    "    general_auc_pr = auc(general_recall, general_precision)\n",
    "    # paint general PR\n",
    "    fig = px.area(\n",
    "            x=general_recall, y=general_precision,\n",
    "            title=f'The general PR Curve (AUC={general_auc_pr:.4f})',\n",
    "            labels=dict(x='Recall', y='Precision'),\n",
    "            width=600, height=500\n",
    "    )\n",
    "    # calc and paint ROC of each fold\n",
    "    for idx, (target, pro) in enumerate(zip(list_targets_clfs,list_pros_clfs)):\n",
    "        precision, recall, thresholds = precision_recall_curve(target, pro, pos_label=1)\n",
    "        fig.add_trace(go.Scatter(x=recall, y=precision, mode='lines', name='fold-{} auc:{:.4f}'.format(idx,auc(recall, precision))))\n",
    "    # paint the standard line\n",
    "    fig.add_shape(\n",
    "        type='line', line=dict(dash='dash'),\n",
    "        x0=0, x1=1, y0=0, y1=1\n",
    "    )\n",
    "    fig.show(config=config_plotly)\n",
    "    return general_precision, general_recall, general_threshold_pr, general_auc_pr"
   ]
  },
  {
   "cell_type": "code",
   "execution_count": null,
   "metadata": {},
   "outputs": [],
   "source": []
  }
 ],
 "metadata": {
  "kernelspec": {
   "display_name": "Python 3.7.13 ('nlp')",
   "language": "python",
   "name": "python3"
  },
  "language_info": {
   "codemirror_mode": {
    "name": "ipython",
    "version": 3
   },
   "file_extension": ".py",
   "mimetype": "text/x-python",
   "name": "python",
   "nbconvert_exporter": "python",
   "pygments_lexer": "ipython3",
   "version": "3.7.13"
  },
  "orig_nbformat": 4,
  "vscode": {
   "interpreter": {
    "hash": "e0dda50c8f3106409627f3c7388c0a3de156665d66c9593dafc60667d2d1be47"
   }
  }
 },
 "nbformat": 4,
 "nbformat_minor": 2
}
