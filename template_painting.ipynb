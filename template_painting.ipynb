{
 "cells": [
  {
   "cell_type": "markdown",
   "id": "1c9a1c1b-3c6f-41f7-9461-dd1368263e0d",
   "metadata": {
    "tags": []
   },
   "source": [
    "### AUC of Plotly\n"
   ]
  },
  {
   "cell_type": "code",
   "execution_count": null,
   "id": "aace95f9-76d5-4870-a092-4a3484001ce5",
   "metadata": {},
   "outputs": [],
   "source": [
    "def paint_general_roc_plotly(list_targets_clfs, list_pros_clfs):\n",
    "    # calc general ROC\n",
    "    general_target = np.asarray(list_targets_clfs).flatten()\n",
    "    general_pro = np.asarray(list_pros_clfs).flatten()\n",
    "    general_fpr, general_tpr, general_threshold_roc = roc_curve(general_target, general_pro, pos_label=1)\n",
    "    general_auc_roc = auc(general_fpr, general_tpr)\n",
    "    # paint general ROC\n",
    "    fig = px.area(\n",
    "            x=general_fpr, y=general_tpr,\n",
    "            title=f'The general ROC Curve (AUC={general_auc_roc:.4f})',\n",
    "            labels=dict(x='False Positive Rate', y='True Positive Rate'),\n",
    "            width=600, height=500\n",
    "    )\n",
    "    # calc and paint ROC of each fold\n",
    "    for idx, (target, pro) in enumerate(zip(list_targets_clfs,list_pros_clfs)):\n",
    "        fpr, tpr, thresholds = roc_curve(target, pro, pos_label=1)\n",
    "        fig.add_trace(go.Scatter(x=fpr, y=tpr, mode='lines', name='fold-{} auc:{:.4f}'.format(idx,auc(fpr, tpr))))\n",
    "    # paint the standard line\n",
    "    fig.add_shape(\n",
    "        type='line', line=dict(dash='dash'),\n",
    "        x0=0, x1=1, y0=0, y1=1\n",
    "    )\n",
    "    fig.show(config=config_plotly)\n",
    "    return general_fpr, general_tpr, general_threshold_roc, general_auc_roc"
   ]
  },
  {
   "cell_type": "code",
   "execution_count": null,
   "id": "47a0b5a6-f997-41fe-9656-a8406d74405d",
   "metadata": {},
   "outputs": [],
   "source": [
    "def paint_general_pr_plotly(list_targets_clfs, list_pros_clfs):\n",
    "    # calc general PR\n",
    "    general_target = np.asarray(list_targets_clfs).flatten()\n",
    "    general_pro = np.asarray(list_pros_clfs).flatten()\n",
    "    general_precision, general_recall, general_threshold_pr = precision_recall_curve(general_target, general_pro, pos_label=1)\n",
    "    general_auc_pr = auc(general_recall, general_precision)\n",
    "    # paint general PR\n",
    "    fig = px.area(\n",
    "            x=general_recall, y=general_precision,\n",
    "            title=f'The general PR Curve (AUC={general_auc_pr:.4f})',\n",
    "            labels=dict(x='Recall', y='Precision'),\n",
    "            width=600, height=500\n",
    "    )\n",
    "    # calc and paint ROC of each fold\n",
    "    for idx, (target, pro) in enumerate(zip(list_targets_clfs,list_pros_clfs)):\n",
    "        precision, recall, thresholds = precision_recall_curve(target, pro, pos_label=1)\n",
    "        fig.add_trace(go.Scatter(x=recall, y=precision, mode='lines', name='fold-{} auc:{:.4f}'.format(idx,auc(recall, precision))))\n",
    "    # paint the standard line\n",
    "    fig.add_shape(\n",
    "        type='line', line=dict(dash='dash'),\n",
    "        x0=0, x1=1, y0=0, y1=1\n",
    "    )\n",
    "    fig.show(config=config_plotly)\n",
    "    return general_precision, general_recall, general_threshold_pr, general_auc_pr"
   ]
  }
 ],
 "metadata": {
  "kernelspec": {
   "display_name": "Python 3.9.12 ('base')",
   "language": "python",
   "name": "python3"
  },
  "language_info": {
   "name": "python",
   "version": "3.9.12"
  },
  "orig_nbformat": 4,
  "vscode": {
   "interpreter": {
    "hash": "ad2bdc8ecc057115af97d19610ffacc2b4e99fae6737bb82f5d7fb13d2f2c186"
   }
  }
 },
 "nbformat": 4,
 "nbformat_minor": 2
}
